{
 "cells": [
  {
   "cell_type": "code",
   "execution_count": 275,
   "id": "238fb7fb",
   "metadata": {
    "scrolled": true
   },
   "outputs": [],
   "source": [
    "import requests\n",
    "# from config_weather_api_key import api_key\n",
    "import pandas as pd\n",
    "import seaborn as sns\n",
    "import numpy as np\n",
    "import matplotlib.pyplot as plt\n",
    "import json\n",
    "import time\n",
    "import hvplot.pandas\n",
    "\n",
    "# Turn off warning messages\n",
    "import warnings\n",
    "warnings.filterwarnings(\"ignore\")"
   ]
  },
  {
   "cell_type": "code",
   "execution_count": 276,
   "id": "331af789",
   "metadata": {},
   "outputs": [
    {
     "data": {
      "text/html": [
       "<div>\n",
       "<style scoped>\n",
       "    .dataframe tbody tr th:only-of-type {\n",
       "        vertical-align: middle;\n",
       "    }\n",
       "\n",
       "    .dataframe tbody tr th {\n",
       "        vertical-align: top;\n",
       "    }\n",
       "\n",
       "    .dataframe thead th {\n",
       "        text-align: right;\n",
       "    }\n",
       "</style>\n",
       "<table border=\"1\" class=\"dataframe\">\n",
       "  <thead>\n",
       "    <tr style=\"text-align: right;\">\n",
       "      <th></th>\n",
       "      <th>Date_time</th>\n",
       "      <th>city</th>\n",
       "      <th>state/province</th>\n",
       "      <th>country</th>\n",
       "      <th>UFO_shape</th>\n",
       "      <th>length_of_encounter_seconds</th>\n",
       "      <th>description</th>\n",
       "      <th>latitude</th>\n",
       "      <th>longitude</th>\n",
       "      <th>year</th>\n",
       "      <th>month</th>\n",
       "      <th>is_weekend</th>\n",
       "    </tr>\n",
       "  </thead>\n",
       "  <tbody>\n",
       "    <tr>\n",
       "      <th>0</th>\n",
       "      <td>1949-10-10 20:30:00</td>\n",
       "      <td>san marcos</td>\n",
       "      <td>tx</td>\n",
       "      <td>us</td>\n",
       "      <td>cylinder</td>\n",
       "      <td>2700.0</td>\n",
       "      <td>This event took place in early fall around 194...</td>\n",
       "      <td>29.883056</td>\n",
       "      <td>-97.941111</td>\n",
       "      <td>1949</td>\n",
       "      <td>10</td>\n",
       "      <td>False</td>\n",
       "    </tr>\n",
       "    <tr>\n",
       "      <th>1</th>\n",
       "      <td>1956-10-10 21:00:00</td>\n",
       "      <td>edna</td>\n",
       "      <td>tx</td>\n",
       "      <td>us</td>\n",
       "      <td>circle</td>\n",
       "      <td>20.0</td>\n",
       "      <td>My older brother and twin sister were leaving ...</td>\n",
       "      <td>28.978333</td>\n",
       "      <td>-96.645833</td>\n",
       "      <td>1956</td>\n",
       "      <td>10</td>\n",
       "      <td>False</td>\n",
       "    </tr>\n",
       "    <tr>\n",
       "      <th>2</th>\n",
       "      <td>1960-10-10 20:00:00</td>\n",
       "      <td>kaneohe</td>\n",
       "      <td>hi</td>\n",
       "      <td>us</td>\n",
       "      <td>light</td>\n",
       "      <td>900.0</td>\n",
       "      <td>AS a Marine 1st Lt. flying an FJ4B fighter/att...</td>\n",
       "      <td>21.418056</td>\n",
       "      <td>-157.803611</td>\n",
       "      <td>1960</td>\n",
       "      <td>10</td>\n",
       "      <td>False</td>\n",
       "    </tr>\n",
       "    <tr>\n",
       "      <th>3</th>\n",
       "      <td>1961-10-10 19:00:00</td>\n",
       "      <td>bristol</td>\n",
       "      <td>tn</td>\n",
       "      <td>us</td>\n",
       "      <td>sphere</td>\n",
       "      <td>300.0</td>\n",
       "      <td>My father is now 89 my brother 52 the girl wit...</td>\n",
       "      <td>36.595000</td>\n",
       "      <td>-82.188889</td>\n",
       "      <td>1961</td>\n",
       "      <td>10</td>\n",
       "      <td>False</td>\n",
       "    </tr>\n",
       "    <tr>\n",
       "      <th>4</th>\n",
       "      <td>1965-10-10 23:45:00</td>\n",
       "      <td>norwalk</td>\n",
       "      <td>ct</td>\n",
       "      <td>us</td>\n",
       "      <td>disk</td>\n",
       "      <td>1200.0</td>\n",
       "      <td>A bright orange color changing to reddish colo...</td>\n",
       "      <td>41.117500</td>\n",
       "      <td>-73.408333</td>\n",
       "      <td>1965</td>\n",
       "      <td>10</td>\n",
       "      <td>True</td>\n",
       "    </tr>\n",
       "  </tbody>\n",
       "</table>\n",
       "</div>"
      ],
      "text/plain": [
       "             Date_time        city state/province country UFO_shape  \\\n",
       "0  1949-10-10 20:30:00  san marcos             tx      us  cylinder   \n",
       "1  1956-10-10 21:00:00        edna             tx      us    circle   \n",
       "2  1960-10-10 20:00:00     kaneohe             hi      us     light   \n",
       "3  1961-10-10 19:00:00     bristol             tn      us    sphere   \n",
       "4  1965-10-10 23:45:00     norwalk             ct      us      disk   \n",
       "\n",
       "   length_of_encounter_seconds  \\\n",
       "0                       2700.0   \n",
       "1                         20.0   \n",
       "2                        900.0   \n",
       "3                        300.0   \n",
       "4                       1200.0   \n",
       "\n",
       "                                         description   latitude   longitude  \\\n",
       "0  This event took place in early fall around 194...  29.883056  -97.941111   \n",
       "1  My older brother and twin sister were leaving ...  28.978333  -96.645833   \n",
       "2  AS a Marine 1st Lt. flying an FJ4B fighter/att...  21.418056 -157.803611   \n",
       "3  My father is now 89 my brother 52 the girl wit...  36.595000  -82.188889   \n",
       "4  A bright orange color changing to reddish colo...  41.117500  -73.408333   \n",
       "\n",
       "   year  month  is_weekend  \n",
       "0  1949     10       False  \n",
       "1  1956     10       False  \n",
       "2  1960     10       False  \n",
       "3  1961     10       False  \n",
       "4  1965     10        True  "
      ]
     },
     "execution_count": 276,
     "metadata": {},
     "output_type": "execute_result"
    }
   ],
   "source": [
    "# Read the CSV file\n",
    "df = pd.read_csv(\"../Data/clean_UFO.csv\")\n",
    "\n",
    "#View the first 5 rows \n",
    "df.head()"
   ]
  },
  {
   "cell_type": "code",
   "execution_count": 277,
   "id": "55b495b0",
   "metadata": {},
   "outputs": [
    {
     "data": {
      "text/plain": [
       "Date_time                      55652\n",
       "city                           11235\n",
       "state/province                    52\n",
       "country                            1\n",
       "UFO_shape                         19\n",
       "length_of_encounter_seconds      460\n",
       "description                    63321\n",
       "latitude                       11495\n",
       "longitude                      12293\n",
       "year                              83\n",
       "month                             12\n",
       "is_weekend                         2\n",
       "dtype: int64"
      ]
     },
     "execution_count": 277,
     "metadata": {},
     "output_type": "execute_result"
    }
   ],
   "source": [
    "df.nunique()"
   ]
  },
  {
   "cell_type": "code",
   "execution_count": 278,
   "id": "0506e509",
   "metadata": {},
   "outputs": [
    {
     "name": "stdout",
     "output_type": "stream",
     "text": [
      "<class 'pandas.core.frame.DataFrame'>\n",
      "RangeIndex: 63553 entries, 0 to 63552\n",
      "Data columns (total 12 columns):\n",
      " #   Column                       Non-Null Count  Dtype  \n",
      "---  ------                       --------------  -----  \n",
      " 0   Date_time                    63553 non-null  object \n",
      " 1   city                         63553 non-null  object \n",
      " 2   state/province               63553 non-null  object \n",
      " 3   country                      63553 non-null  object \n",
      " 4   UFO_shape                    63553 non-null  object \n",
      " 5   length_of_encounter_seconds  63553 non-null  float64\n",
      " 6   description                  63553 non-null  object \n",
      " 7   latitude                     63553 non-null  float64\n",
      " 8   longitude                    63553 non-null  float64\n",
      " 9   year                         63553 non-null  int64  \n",
      " 10  month                        63553 non-null  int64  \n",
      " 11  is_weekend                   63553 non-null  bool   \n",
      "dtypes: bool(1), float64(3), int64(2), object(6)\n",
      "memory usage: 5.4+ MB\n"
     ]
    }
   ],
   "source": [
    "df.info()"
   ]
  },
  {
   "cell_type": "code",
   "execution_count": 279,
   "id": "c070c359",
   "metadata": {},
   "outputs": [],
   "source": [
    "# test the endpoint \n",
    "# url =f\"http://api.openweathermap.org/geo/1.0/direct?q=London&limit=5&appid={api_key}\"\n"
   ]
  },
  {
   "cell_type": "code",
   "execution_count": 280,
   "id": "e0bf700e",
   "metadata": {},
   "outputs": [],
   "source": [
    "# display the data \n",
    "\n",
    "# response=requests.get(url)\n",
    "# print (response.status_code)\n",
    "\n",
    "# data= response.json()\n",
    "# data"
   ]
  },
  {
   "cell_type": "code",
   "execution_count": 281,
   "id": "930e59cd",
   "metadata": {},
   "outputs": [
    {
     "data": {
      "text/html": [
       "<div>\n",
       "<style scoped>\n",
       "    .dataframe tbody tr th:only-of-type {\n",
       "        vertical-align: middle;\n",
       "    }\n",
       "\n",
       "    .dataframe tbody tr th {\n",
       "        vertical-align: top;\n",
       "    }\n",
       "\n",
       "    .dataframe thead th {\n",
       "        text-align: right;\n",
       "    }\n",
       "</style>\n",
       "<table border=\"1\" class=\"dataframe\">\n",
       "  <thead>\n",
       "    <tr style=\"text-align: right;\">\n",
       "      <th></th>\n",
       "      <th>city</th>\n",
       "      <th>state/province</th>\n",
       "      <th>country</th>\n",
       "      <th>UFO_shape</th>\n",
       "      <th>length_of_encounter_seconds</th>\n",
       "      <th>description</th>\n",
       "      <th>latitude</th>\n",
       "      <th>longitude</th>\n",
       "      <th>year</th>\n",
       "      <th>month</th>\n",
       "      <th>is_weekend</th>\n",
       "    </tr>\n",
       "  </thead>\n",
       "  <tbody>\n",
       "    <tr>\n",
       "      <th>0</th>\n",
       "      <td>san marcos</td>\n",
       "      <td>tx</td>\n",
       "      <td>us</td>\n",
       "      <td>cylinder</td>\n",
       "      <td>2700.0</td>\n",
       "      <td>This event took place in early fall around 194...</td>\n",
       "      <td>29.883056</td>\n",
       "      <td>-97.941111</td>\n",
       "      <td>1949</td>\n",
       "      <td>10</td>\n",
       "      <td>False</td>\n",
       "    </tr>\n",
       "    <tr>\n",
       "      <th>1</th>\n",
       "      <td>edna</td>\n",
       "      <td>tx</td>\n",
       "      <td>us</td>\n",
       "      <td>circle</td>\n",
       "      <td>20.0</td>\n",
       "      <td>My older brother and twin sister were leaving ...</td>\n",
       "      <td>28.978333</td>\n",
       "      <td>-96.645833</td>\n",
       "      <td>1956</td>\n",
       "      <td>10</td>\n",
       "      <td>False</td>\n",
       "    </tr>\n",
       "    <tr>\n",
       "      <th>2</th>\n",
       "      <td>kaneohe</td>\n",
       "      <td>hi</td>\n",
       "      <td>us</td>\n",
       "      <td>light</td>\n",
       "      <td>900.0</td>\n",
       "      <td>AS a Marine 1st Lt. flying an FJ4B fighter/att...</td>\n",
       "      <td>21.418056</td>\n",
       "      <td>-157.803611</td>\n",
       "      <td>1960</td>\n",
       "      <td>10</td>\n",
       "      <td>False</td>\n",
       "    </tr>\n",
       "    <tr>\n",
       "      <th>3</th>\n",
       "      <td>bristol</td>\n",
       "      <td>tn</td>\n",
       "      <td>us</td>\n",
       "      <td>sphere</td>\n",
       "      <td>300.0</td>\n",
       "      <td>My father is now 89 my brother 52 the girl wit...</td>\n",
       "      <td>36.595000</td>\n",
       "      <td>-82.188889</td>\n",
       "      <td>1961</td>\n",
       "      <td>10</td>\n",
       "      <td>False</td>\n",
       "    </tr>\n",
       "    <tr>\n",
       "      <th>4</th>\n",
       "      <td>norwalk</td>\n",
       "      <td>ct</td>\n",
       "      <td>us</td>\n",
       "      <td>disk</td>\n",
       "      <td>1200.0</td>\n",
       "      <td>A bright orange color changing to reddish colo...</td>\n",
       "      <td>41.117500</td>\n",
       "      <td>-73.408333</td>\n",
       "      <td>1965</td>\n",
       "      <td>10</td>\n",
       "      <td>True</td>\n",
       "    </tr>\n",
       "    <tr>\n",
       "      <th>...</th>\n",
       "      <td>...</td>\n",
       "      <td>...</td>\n",
       "      <td>...</td>\n",
       "      <td>...</td>\n",
       "      <td>...</td>\n",
       "      <td>...</td>\n",
       "      <td>...</td>\n",
       "      <td>...</td>\n",
       "      <td>...</td>\n",
       "      <td>...</td>\n",
       "      <td>...</td>\n",
       "    </tr>\n",
       "    <tr>\n",
       "      <th>63548</th>\n",
       "      <td>nashville</td>\n",
       "      <td>tn</td>\n",
       "      <td>us</td>\n",
       "      <td>light</td>\n",
       "      <td>600.0</td>\n",
       "      <td>Round from the distance/slowly changing colors...</td>\n",
       "      <td>36.165833</td>\n",
       "      <td>-86.784444</td>\n",
       "      <td>2013</td>\n",
       "      <td>9</td>\n",
       "      <td>False</td>\n",
       "    </tr>\n",
       "    <tr>\n",
       "      <th>63549</th>\n",
       "      <td>boise</td>\n",
       "      <td>id</td>\n",
       "      <td>us</td>\n",
       "      <td>circle</td>\n",
       "      <td>1200.0</td>\n",
       "      <td>Boise&amp;#44 ID&amp;#44 spherical&amp;#44 20 min&amp;#44 10 r...</td>\n",
       "      <td>43.613611</td>\n",
       "      <td>-116.202500</td>\n",
       "      <td>2013</td>\n",
       "      <td>9</td>\n",
       "      <td>False</td>\n",
       "    </tr>\n",
       "    <tr>\n",
       "      <th>63550</th>\n",
       "      <td>napa</td>\n",
       "      <td>ca</td>\n",
       "      <td>us</td>\n",
       "      <td>other</td>\n",
       "      <td>1200.0</td>\n",
       "      <td>Napa UFO&amp;#44</td>\n",
       "      <td>38.297222</td>\n",
       "      <td>-122.284444</td>\n",
       "      <td>2013</td>\n",
       "      <td>9</td>\n",
       "      <td>False</td>\n",
       "    </tr>\n",
       "    <tr>\n",
       "      <th>63551</th>\n",
       "      <td>vienna</td>\n",
       "      <td>va</td>\n",
       "      <td>us</td>\n",
       "      <td>circle</td>\n",
       "      <td>5.0</td>\n",
       "      <td>Saw a five gold lit cicular craft moving fastl...</td>\n",
       "      <td>38.901111</td>\n",
       "      <td>-77.265556</td>\n",
       "      <td>2013</td>\n",
       "      <td>9</td>\n",
       "      <td>False</td>\n",
       "    </tr>\n",
       "    <tr>\n",
       "      <th>63552</th>\n",
       "      <td>edmond</td>\n",
       "      <td>ok</td>\n",
       "      <td>us</td>\n",
       "      <td>cigar</td>\n",
       "      <td>1020.0</td>\n",
       "      <td>2 witnesses 2  miles apart&amp;#44 Red &amp;amp; White...</td>\n",
       "      <td>35.652778</td>\n",
       "      <td>-97.477778</td>\n",
       "      <td>2013</td>\n",
       "      <td>9</td>\n",
       "      <td>False</td>\n",
       "    </tr>\n",
       "  </tbody>\n",
       "</table>\n",
       "<p>63553 rows × 11 columns</p>\n",
       "</div>"
      ],
      "text/plain": [
       "             city state/province country UFO_shape  \\\n",
       "0      san marcos             tx      us  cylinder   \n",
       "1            edna             tx      us    circle   \n",
       "2         kaneohe             hi      us     light   \n",
       "3         bristol             tn      us    sphere   \n",
       "4         norwalk             ct      us      disk   \n",
       "...           ...            ...     ...       ...   \n",
       "63548   nashville             tn      us     light   \n",
       "63549       boise             id      us    circle   \n",
       "63550        napa             ca      us     other   \n",
       "63551      vienna             va      us    circle   \n",
       "63552      edmond             ok      us     cigar   \n",
       "\n",
       "       length_of_encounter_seconds  \\\n",
       "0                           2700.0   \n",
       "1                             20.0   \n",
       "2                            900.0   \n",
       "3                            300.0   \n",
       "4                           1200.0   \n",
       "...                            ...   \n",
       "63548                        600.0   \n",
       "63549                       1200.0   \n",
       "63550                       1200.0   \n",
       "63551                          5.0   \n",
       "63552                       1020.0   \n",
       "\n",
       "                                             description   latitude  \\\n",
       "0      This event took place in early fall around 194...  29.883056   \n",
       "1      My older brother and twin sister were leaving ...  28.978333   \n",
       "2      AS a Marine 1st Lt. flying an FJ4B fighter/att...  21.418056   \n",
       "3      My father is now 89 my brother 52 the girl wit...  36.595000   \n",
       "4      A bright orange color changing to reddish colo...  41.117500   \n",
       "...                                                  ...        ...   \n",
       "63548  Round from the distance/slowly changing colors...  36.165833   \n",
       "63549  Boise&#44 ID&#44 spherical&#44 20 min&#44 10 r...  43.613611   \n",
       "63550                                       Napa UFO&#44  38.297222   \n",
       "63551  Saw a five gold lit cicular craft moving fastl...  38.901111   \n",
       "63552  2 witnesses 2  miles apart&#44 Red &amp; White...  35.652778   \n",
       "\n",
       "        longitude  year  month  is_weekend  \n",
       "0      -97.941111  1949     10       False  \n",
       "1      -96.645833  1956     10       False  \n",
       "2     -157.803611  1960     10       False  \n",
       "3      -82.188889  1961     10       False  \n",
       "4      -73.408333  1965     10        True  \n",
       "...           ...   ...    ...         ...  \n",
       "63548  -86.784444  2013      9       False  \n",
       "63549 -116.202500  2013      9       False  \n",
       "63550 -122.284444  2013      9       False  \n",
       "63551  -77.265556  2013      9       False  \n",
       "63552  -97.477778  2013      9       False  \n",
       "\n",
       "[63553 rows x 11 columns]"
      ]
     },
     "execution_count": 281,
     "metadata": {},
     "output_type": "execute_result"
    }
   ],
   "source": [
    "# dropping columns \n",
    "df_city = df.drop (['Date_time'],axis=1)\n",
    "df_city"
   ]
  },
  {
   "cell_type": "code",
   "execution_count": null,
   "id": "320c1c42",
   "metadata": {},
   "outputs": [],
   "source": []
  },
  {
   "cell_type": "code",
   "execution_count": 282,
   "id": "fe742927",
   "metadata": {},
   "outputs": [
    {
     "data": {
      "text/plain": [
       "city                                                       state/province  latitude   longitude  \n",
       "seattle                                                    wa              47.606389  -122.330833    471\n",
       "phoenix                                                    az              33.448333  -112.073333    434\n",
       "las vegas                                                  nv              36.175000  -115.136389    352\n",
       "los angeles                                                ca              34.052222  -118.242778    347\n",
       "san diego                                                  ca              32.715278  -117.156389    327\n",
       "                                                                                                    ... \n",
       "middlefield (on county line&#44 geauga_trumbull counties)  oh              41.461944  -81.073889       1\n",
       "middlefield                                                oh              41.461944  -81.073889       1\n",
       "middlebury                                                 vt              44.015278  -73.167778       1\n",
       "middleburg                                                 pa              40.785833  -77.047500       1\n",
       "zwolle                                                     la              31.631389  -93.643889       1\n",
       "Length: 14843, dtype: int64"
      ]
     },
     "execution_count": 282,
     "metadata": {},
     "output_type": "execute_result"
    }
   ],
   "source": [
    "df_city = df.drop (['country','Date_time','UFO_shape','length_of_encounter_seconds','description','year','month','is_weekend'],axis=1)\n",
    "df_city.value_counts()"
   ]
  },
  {
   "cell_type": "code",
   "execution_count": 283,
   "id": "63ecdcbb",
   "metadata": {},
   "outputs": [
    {
     "name": "stdout",
     "output_type": "stream",
     "text": [
      "['ak', 'al', 'ar', 'az', 'ca', 'co', 'ct', 'dc', 'de', 'fl', 'ga', 'hi', 'ia', 'id', 'il', 'in', 'ks', 'ky', 'la', 'ma', 'md', 'me', 'mi', 'mn', 'mo', 'ms', 'mt', 'nc', 'nd', 'ne', 'nh', 'nj', 'nm', 'nv', 'ny', 'oh', 'ok', 'or', 'pa', 'pr', 'ri', 'sc', 'sd', 'tn', 'tx', 'ut', 'va', 'vt', 'wa', 'wi', 'wv', 'wy']\n"
     ]
    }
   ],
   "source": [
    "state_list = sorted(df_city['state/province'].unique().tolist())\n",
    "print(state_list)"
   ]
  },
  {
   "cell_type": "code",
   "execution_count": 284,
   "id": "8f973fa2",
   "metadata": {},
   "outputs": [],
   "source": [
    "# defining US region groupings, and making a new column for \"region\"\n",
    "southwest = ['az','tx','nm','ok']\n",
    "southeast = ['al','ar','la','ms','tn','ky','wv','va','nc','sc','ga','fl']\n",
    "northeast = ['me','nh','vt','ma','md','ri','ct','nj','de','pa','ny']\n",
    "middle_west = ['nd','sd','ne','ks','mn','ia','mo','wi','il','mi','in','oh']\n",
    "west = ['wa', 'mt', 'or', 'id', 'wy', 'co', 'nm', 'ca', 'az', 'nv', 'ut', 'ak', 'hi']\n",
    "df[\"region\"] = None\n",
    "\n",
    "df.loc[df[\"state/province\"].isin(southwest), \"region\"] = \"Southwest\"\n",
    "df.loc[df[\"state/province\"].isin(southeast), \"region\"] = \"Southeast\"\n",
    "df.loc[df[\"state/province\"].isin(northeast), \"region\"] = \"Northeast\"\n",
    "df.loc[df[\"state/province\"].isin(middle_west), \"region\"] = \"Middle West\"\n",
    "df.loc[df[\"state/province\"].isin(west), \"region\"] = \"West\""
   ]
  },
  {
   "cell_type": "code",
   "execution_count": 285,
   "id": "5e3f7a9c",
   "metadata": {},
   "outputs": [
    {
     "data": {
      "text/plain": [
       "West           21591\n",
       "Southeast      13439\n",
       "Middle West    13320\n",
       "Northeast      11060\n",
       "Southwest       4112\n",
       "Name: region, dtype: int64"
      ]
     },
     "execution_count": 285,
     "metadata": {},
     "output_type": "execute_result"
    }
   ],
   "source": [
    "# look at counts per region\n",
    "df.region.value_counts()"
   ]
  },
  {
   "cell_type": "code",
   "execution_count": 286,
   "id": "68f10309",
   "metadata": {},
   "outputs": [
    {
     "data": {
      "image/png": "[encoded data removed]",
      "text/plain": [
       "<Figure size 1000x600 with 1 Axes>"
      ]
     },
     "metadata": {},
     "output_type": "display_data"
    }
   ],
   "source": [
    "# Make a bar chart for number of sightings per city\n",
    "regions = [\"West\", \"Southeast\", \"Middle West\", \"Northeast\", \"Southwest\"]\n",
    "sightings_count = df.region.value_counts()\n",
    "\n",
    "# init the plot\n",
    "plt.figure(figsize=(10,6))\n",
    "plt.barh(regions, sightings_count, color='firebrick', alpha=0.5, align=\"center\")\n",
    "\n",
    "# customize the plot\n",
    "plt.title(\"Sightings per U.S. Region\", fontsize=16, fontweight=\"bold\")\n",
    "plt.xlabel(\"Number of Sightings\", fontsize=12)\n",
    "plt.ylabel(\"Region\", fontsize=12)\n",
    "\n",
    "\n",
    "plt.grid(axis=\"y\", c=\"lightgray\", linestyle=\"dashed\", alpha=0.4)\n",
    "\n",
    "# show the plot\n",
    "plt.show()"
   ]
  },
  {
   "cell_type": "code",
   "execution_count": 287,
   "id": "b7e2ee47",
   "metadata": {},
   "outputs": [
    {
     "name": "stdout",
     "output_type": "stream",
     "text": [
      "[1910, 1920, 1925, 1929, 1931, 1934, 1936, 1937, 1939, 1941, 1942, 1943, 1944, 1945, 1946, 1947, 1948, 1949, 1950, 1951, 1952, 1953, 1954, 1955, 1956, 1957, 1958, 1959, 1960, 1961, 1962, 1963, 1964, 1965, 1966, 1967, 1968, 1969, 1970, 1971, 1972, 1973, 1974, 1975, 1976, 1977, 1978, 1979, 1980, 1981, 1982, 1983, 1984, 1985, 1986, 1987, 1988, 1989, 1990, 1991, 1992, 1993, 1994, 1995, 1996, 1997, 1998, 1999, 2000, 2001, 2002, 2003, 2004, 2005, 2006, 2007, 2008, 2009, 2010, 2011, 2012, 2013, 2014]\n"
     ]
    }
   ],
   "source": [
    "year_list = sorted(df['year'].unique().tolist())\n",
    "print(year_list)"
   ]
  },
  {
   "cell_type": "code",
   "execution_count": 288,
   "id": "e306d5d4",
   "metadata": {},
   "outputs": [],
   "source": [
    "# Create the bins for sightings by decades\n",
    "bins = [0, 1919, 1929, 1939, 1949, 1959, 1969, 1979, 1989, 1999, 2009, 2019]\n",
    "\n",
    "# Create the names for the five bins\n",
    "group_labels = [\"1910s\", \"1920s\", \"1930s\", \"1940s\", \"1950s\", \"1960s\", \"1970s\", \"1980s\", \"1990s\", \"2000s\", \"2010s\"]"
   ]
  },
  {
   "cell_type": "code",
   "execution_count": 289,
   "id": "77414040",
   "metadata": {},
   "outputs": [
    {
     "data": {
      "text/plain": [
       "2000s    30158\n",
       "2010s    22014\n",
       "1990s     6500\n",
       "1970s     1823\n",
       "1980s     1588\n",
       "1960s     1045\n",
       "1950s      336\n",
       "1940s       75\n",
       "1930s        9\n",
       "1920s        3\n",
       "1910s        2\n",
       "Name: year, dtype: int64"
      ]
     },
     "execution_count": 289,
     "metadata": {},
     "output_type": "execute_result"
    }
   ],
   "source": [
    "# Slice the data and place it into bins\n",
    "pd.cut(df[\"year\"], bins, labels=group_labels).value_counts()"
   ]
  },
  {
   "cell_type": "code",
   "execution_count": 290,
   "id": "ab7b5b36",
   "metadata": {},
   "outputs": [
    {
     "data": {
      "text/html": [
       "<div>\n",
       "<style scoped>\n",
       "    .dataframe tbody tr th:only-of-type {\n",
       "        vertical-align: middle;\n",
       "    }\n",
       "\n",
       "    .dataframe tbody tr th {\n",
       "        vertical-align: top;\n",
       "    }\n",
       "\n",
       "    .dataframe thead th {\n",
       "        text-align: right;\n",
       "    }\n",
       "</style>\n",
       "<table border=\"1\" class=\"dataframe\">\n",
       "  <thead>\n",
       "    <tr style=\"text-align: right;\">\n",
       "      <th></th>\n",
       "      <th>Date_time</th>\n",
       "      <th>city</th>\n",
       "      <th>state/province</th>\n",
       "      <th>country</th>\n",
       "      <th>UFO_shape</th>\n",
       "      <th>length_of_encounter_seconds</th>\n",
       "      <th>description</th>\n",
       "      <th>latitude</th>\n",
       "      <th>longitude</th>\n",
       "      <th>year</th>\n",
       "      <th>month</th>\n",
       "      <th>is_weekend</th>\n",
       "      <th>region</th>\n",
       "      <th>Decades</th>\n",
       "    </tr>\n",
       "  </thead>\n",
       "  <tbody>\n",
       "    <tr>\n",
       "      <th>0</th>\n",
       "      <td>1949-10-10 20:30:00</td>\n",
       "      <td>san marcos</td>\n",
       "      <td>tx</td>\n",
       "      <td>us</td>\n",
       "      <td>cylinder</td>\n",
       "      <td>2700.0</td>\n",
       "      <td>This event took place in early fall around 194...</td>\n",
       "      <td>29.883056</td>\n",
       "      <td>-97.941111</td>\n",
       "      <td>1949</td>\n",
       "      <td>10</td>\n",
       "      <td>False</td>\n",
       "      <td>Southwest</td>\n",
       "      <td>1940s</td>\n",
       "    </tr>\n",
       "    <tr>\n",
       "      <th>1</th>\n",
       "      <td>1956-10-10 21:00:00</td>\n",
       "      <td>edna</td>\n",
       "      <td>tx</td>\n",
       "      <td>us</td>\n",
       "      <td>circle</td>\n",
       "      <td>20.0</td>\n",
       "      <td>My older brother and twin sister were leaving ...</td>\n",
       "      <td>28.978333</td>\n",
       "      <td>-96.645833</td>\n",
       "      <td>1956</td>\n",
       "      <td>10</td>\n",
       "      <td>False</td>\n",
       "      <td>Southwest</td>\n",
       "      <td>1950s</td>\n",
       "    </tr>\n",
       "    <tr>\n",
       "      <th>2</th>\n",
       "      <td>1960-10-10 20:00:00</td>\n",
       "      <td>kaneohe</td>\n",
       "      <td>hi</td>\n",
       "      <td>us</td>\n",
       "      <td>light</td>\n",
       "      <td>900.0</td>\n",
       "      <td>AS a Marine 1st Lt. flying an FJ4B fighter/att...</td>\n",
       "      <td>21.418056</td>\n",
       "      <td>-157.803611</td>\n",
       "      <td>1960</td>\n",
       "      <td>10</td>\n",
       "      <td>False</td>\n",
       "      <td>West</td>\n",
       "      <td>1960s</td>\n",
       "    </tr>\n",
       "    <tr>\n",
       "      <th>3</th>\n",
       "      <td>1961-10-10 19:00:00</td>\n",
       "      <td>bristol</td>\n",
       "      <td>tn</td>\n",
       "      <td>us</td>\n",
       "      <td>sphere</td>\n",
       "      <td>300.0</td>\n",
       "      <td>My father is now 89 my brother 52 the girl wit...</td>\n",
       "      <td>36.595000</td>\n",
       "      <td>-82.188889</td>\n",
       "      <td>1961</td>\n",
       "      <td>10</td>\n",
       "      <td>False</td>\n",
       "      <td>Southeast</td>\n",
       "      <td>1960s</td>\n",
       "    </tr>\n",
       "    <tr>\n",
       "      <th>4</th>\n",
       "      <td>1965-10-10 23:45:00</td>\n",
       "      <td>norwalk</td>\n",
       "      <td>ct</td>\n",
       "      <td>us</td>\n",
       "      <td>disk</td>\n",
       "      <td>1200.0</td>\n",
       "      <td>A bright orange color changing to reddish colo...</td>\n",
       "      <td>41.117500</td>\n",
       "      <td>-73.408333</td>\n",
       "      <td>1965</td>\n",
       "      <td>10</td>\n",
       "      <td>True</td>\n",
       "      <td>Northeast</td>\n",
       "      <td>1960s</td>\n",
       "    </tr>\n",
       "  </tbody>\n",
       "</table>\n",
       "</div>"
      ],
      "text/plain": [
       "             Date_time        city state/province country UFO_shape  \\\n",
       "0  1949-10-10 20:30:00  san marcos             tx      us  cylinder   \n",
       "1  1956-10-10 21:00:00        edna             tx      us    circle   \n",
       "2  1960-10-10 20:00:00     kaneohe             hi      us     light   \n",
       "3  1961-10-10 19:00:00     bristol             tn      us    sphere   \n",
       "4  1965-10-10 23:45:00     norwalk             ct      us      disk   \n",
       "\n",
       "   length_of_encounter_seconds  \\\n",
       "0                       2700.0   \n",
       "1                         20.0   \n",
       "2                        900.0   \n",
       "3                        300.0   \n",
       "4                       1200.0   \n",
       "\n",
       "                                         description   latitude   longitude  \\\n",
       "0  This event took place in early fall around 194...  29.883056  -97.941111   \n",
       "1  My older brother and twin sister were leaving ...  28.978333  -96.645833   \n",
       "2  AS a Marine 1st Lt. flying an FJ4B fighter/att...  21.418056 -157.803611   \n",
       "3  My father is now 89 my brother 52 the girl wit...  36.595000  -82.188889   \n",
       "4  A bright orange color changing to reddish colo...  41.117500  -73.408333   \n",
       "\n",
       "   year  month  is_weekend     region Decades  \n",
       "0  1949     10       False  Southwest   1940s  \n",
       "1  1956     10       False  Southwest   1950s  \n",
       "2  1960     10       False       West   1960s  \n",
       "3  1961     10       False  Southeast   1960s  \n",
       "4  1965     10        True  Northeast   1960s  "
      ]
     },
     "execution_count": 290,
     "metadata": {},
     "output_type": "execute_result"
    }
   ],
   "source": [
    "# Place the decade data into a new column inside of the DataFrame\n",
    "df[\"Decades\"] = pd.cut(df[\"year\"], bins, labels=group_labels)\n",
    "df.head()"
   ]
  },
  {
   "cell_type": "code",
   "execution_count": null,
   "id": "cf429751",
   "metadata": {},
   "outputs": [],
   "source": []
  },
  {
   "cell_type": "code",
   "execution_count": null,
   "id": "31be0d6a",
   "metadata": {},
   "outputs": [],
   "source": []
  },
  {
   "cell_type": "code",
   "execution_count": 291,
   "id": "f82999c5",
   "metadata": {},
   "outputs": [
    {
     "name": "stdout",
     "output_type": "stream",
     "text": [
      "['changing', 'chevron', 'cigar', 'circle', 'cone', 'cross', 'cylinder', 'diamond', 'disk', 'fireball', 'flash', 'formation', 'light', 'other', 'oval', 'rectangle', 'sphere', 'teardrop', 'triangle']\n"
     ]
    }
   ],
   "source": [
    "shape_list = sorted(df['UFO_shape'].unique().tolist())\n",
    "print(shape_list)"
   ]
  },
  {
   "cell_type": "code",
   "execution_count": 292,
   "id": "a2156fa0",
   "metadata": {},
   "outputs": [
    {
     "data": {
      "text/html": [
       "<div>\n",
       "<style scoped>\n",
       "    .dataframe tbody tr th:only-of-type {\n",
       "        vertical-align: middle;\n",
       "    }\n",
       "\n",
       "    .dataframe tbody tr th {\n",
       "        vertical-align: top;\n",
       "    }\n",
       "\n",
       "    .dataframe thead th {\n",
       "        text-align: right;\n",
       "    }\n",
       "</style>\n",
       "<table border=\"1\" class=\"dataframe\">\n",
       "  <thead>\n",
       "    <tr style=\"text-align: right;\">\n",
       "      <th></th>\n",
       "      <th>UFO_shape</th>\n",
       "      <th>Decades</th>\n",
       "    </tr>\n",
       "  </thead>\n",
       "  <tbody>\n",
       "    <tr>\n",
       "      <th>0</th>\n",
       "      <td>cylinder</td>\n",
       "      <td>1940s</td>\n",
       "    </tr>\n",
       "    <tr>\n",
       "      <th>1</th>\n",
       "      <td>circle</td>\n",
       "      <td>1950s</td>\n",
       "    </tr>\n",
       "    <tr>\n",
       "      <th>2</th>\n",
       "      <td>light</td>\n",
       "      <td>1960s</td>\n",
       "    </tr>\n",
       "    <tr>\n",
       "      <th>3</th>\n",
       "      <td>sphere</td>\n",
       "      <td>1960s</td>\n",
       "    </tr>\n",
       "    <tr>\n",
       "      <th>4</th>\n",
       "      <td>disk</td>\n",
       "      <td>1960s</td>\n",
       "    </tr>\n",
       "    <tr>\n",
       "      <th>...</th>\n",
       "      <td>...</td>\n",
       "      <td>...</td>\n",
       "    </tr>\n",
       "    <tr>\n",
       "      <th>63548</th>\n",
       "      <td>light</td>\n",
       "      <td>2010s</td>\n",
       "    </tr>\n",
       "    <tr>\n",
       "      <th>63549</th>\n",
       "      <td>circle</td>\n",
       "      <td>2010s</td>\n",
       "    </tr>\n",
       "    <tr>\n",
       "      <th>63550</th>\n",
       "      <td>other</td>\n",
       "      <td>2010s</td>\n",
       "    </tr>\n",
       "    <tr>\n",
       "      <th>63551</th>\n",
       "      <td>circle</td>\n",
       "      <td>2010s</td>\n",
       "    </tr>\n",
       "    <tr>\n",
       "      <th>63552</th>\n",
       "      <td>cigar</td>\n",
       "      <td>2010s</td>\n",
       "    </tr>\n",
       "  </tbody>\n",
       "</table>\n",
       "<p>63553 rows × 2 columns</p>\n",
       "</div>"
      ],
      "text/plain": [
       "      UFO_shape Decades\n",
       "0      cylinder   1940s\n",
       "1        circle   1950s\n",
       "2         light   1960s\n",
       "3        sphere   1960s\n",
       "4          disk   1960s\n",
       "...         ...     ...\n",
       "63548     light   2010s\n",
       "63549    circle   2010s\n",
       "63550     other   2010s\n",
       "63551    circle   2010s\n",
       "63552     cigar   2010s\n",
       "\n",
       "[63553 rows x 2 columns]"
      ]
     },
     "execution_count": 292,
     "metadata": {},
     "output_type": "execute_result"
    }
   ],
   "source": [
    "df_shape = df[[\"UFO_shape\",\"Decades\"]].copy()\n",
    "df_shape"
   ]
  },
  {
   "cell_type": "code",
   "execution_count": 293,
   "id": "7d5e9223",
   "metadata": {},
   "outputs": [
    {
     "data": {
      "text/html": [
       "<div>\n",
       "<style scoped>\n",
       "    .dataframe tbody tr th:only-of-type {\n",
       "        vertical-align: middle;\n",
       "    }\n",
       "\n",
       "    .dataframe tbody tr th {\n",
       "        vertical-align: top;\n",
       "    }\n",
       "\n",
       "    .dataframe thead th {\n",
       "        text-align: right;\n",
       "    }\n",
       "</style>\n",
       "<table border=\"1\" class=\"dataframe\">\n",
       "  <thead>\n",
       "    <tr style=\"text-align: right;\">\n",
       "      <th></th>\n",
       "      <th>index</th>\n",
       "      <th>UFO_shape</th>\n",
       "      <th>Decades</th>\n",
       "    </tr>\n",
       "  </thead>\n",
       "  <tbody>\n",
       "    <tr>\n",
       "      <th>0</th>\n",
       "      <td>171</td>\n",
       "      <td>light</td>\n",
       "      <td>2010s</td>\n",
       "    </tr>\n",
       "    <tr>\n",
       "      <th>1</th>\n",
       "      <td>172</td>\n",
       "      <td>circle</td>\n",
       "      <td>2010s</td>\n",
       "    </tr>\n",
       "    <tr>\n",
       "      <th>2</th>\n",
       "      <td>173</td>\n",
       "      <td>circle</td>\n",
       "      <td>2010s</td>\n",
       "    </tr>\n",
       "    <tr>\n",
       "      <th>3</th>\n",
       "      <td>174</td>\n",
       "      <td>formation</td>\n",
       "      <td>2010s</td>\n",
       "    </tr>\n",
       "    <tr>\n",
       "      <th>4</th>\n",
       "      <td>175</td>\n",
       "      <td>light</td>\n",
       "      <td>2010s</td>\n",
       "    </tr>\n",
       "    <tr>\n",
       "      <th>...</th>\n",
       "      <td>...</td>\n",
       "      <td>...</td>\n",
       "      <td>...</td>\n",
       "    </tr>\n",
       "    <tr>\n",
       "      <th>22009</th>\n",
       "      <td>63548</td>\n",
       "      <td>light</td>\n",
       "      <td>2010s</td>\n",
       "    </tr>\n",
       "    <tr>\n",
       "      <th>22010</th>\n",
       "      <td>63549</td>\n",
       "      <td>circle</td>\n",
       "      <td>2010s</td>\n",
       "    </tr>\n",
       "    <tr>\n",
       "      <th>22011</th>\n",
       "      <td>63550</td>\n",
       "      <td>other</td>\n",
       "      <td>2010s</td>\n",
       "    </tr>\n",
       "    <tr>\n",
       "      <th>22012</th>\n",
       "      <td>63551</td>\n",
       "      <td>circle</td>\n",
       "      <td>2010s</td>\n",
       "    </tr>\n",
       "    <tr>\n",
       "      <th>22013</th>\n",
       "      <td>63552</td>\n",
       "      <td>cigar</td>\n",
       "      <td>2010s</td>\n",
       "    </tr>\n",
       "  </tbody>\n",
       "</table>\n",
       "<p>22014 rows × 3 columns</p>\n",
       "</div>"
      ],
      "text/plain": [
       "       index  UFO_shape Decades\n",
       "0        171      light   2010s\n",
       "1        172     circle   2010s\n",
       "2        173     circle   2010s\n",
       "3        174  formation   2010s\n",
       "4        175      light   2010s\n",
       "...      ...        ...     ...\n",
       "22009  63548      light   2010s\n",
       "22010  63549     circle   2010s\n",
       "22011  63550      other   2010s\n",
       "22012  63551     circle   2010s\n",
       "22013  63552      cigar   2010s\n",
       "\n",
       "[22014 rows x 3 columns]"
      ]
     },
     "execution_count": 293,
     "metadata": {},
     "output_type": "execute_result"
    }
   ],
   "source": [
    "df_2010 = df_shape.loc[df_shape[\"Decades\"] == \"2010s\"]\n",
    "df_2010.reset_index()"
   ]
  },
  {
   "cell_type": "code",
   "execution_count": 294,
   "id": "04eaa3c3",
   "metadata": {},
   "outputs": [],
   "source": [
    "# Create DF's for looking at shape distribution over time\n",
    "df_2010s = df_shape.loc[df_shape[\"Decades\"] == \"2010s\"]\n",
    "df_2000s = df_shape.loc[df_shape[\"Decades\"] == \"2000s\"]\n",
    "df_1990s = df_shape.loc[df_shape[\"Decades\"] == \"1990s\"]\n",
    "df_1980s = df_shape.loc[df_shape[\"Decades\"] == \"1980s\"]\n",
    "df_1970s = df_shape.loc[df_shape[\"Decades\"] == \"1970s\"]\n",
    "df_1960s = df_shape.loc[df_shape[\"Decades\"] == \"1960s\"]\n",
    "df_1950s = df_shape.loc[df_shape[\"Decades\"] == \"1950s\"]"
   ]
  },
  {
   "cell_type": "code",
   "execution_count": 295,
   "id": "eaa59d71",
   "metadata": {},
   "outputs": [
    {
     "data": {
      "text/html": [
       "<div>\n",
       "<style scoped>\n",
       "    .dataframe tbody tr th:only-of-type {\n",
       "        vertical-align: middle;\n",
       "    }\n",
       "\n",
       "    .dataframe tbody tr th {\n",
       "        vertical-align: top;\n",
       "    }\n",
       "\n",
       "    .dataframe thead th {\n",
       "        text-align: right;\n",
       "    }\n",
       "</style>\n",
       "<table border=\"1\" class=\"dataframe\">\n",
       "  <thead>\n",
       "    <tr style=\"text-align: right;\">\n",
       "      <th></th>\n",
       "      <th>UFO_shape</th>\n",
       "      <th>Decades</th>\n",
       "    </tr>\n",
       "  </thead>\n",
       "  <tbody>\n",
       "    <tr>\n",
       "      <th>1</th>\n",
       "      <td>circle</td>\n",
       "      <td>1950s</td>\n",
       "    </tr>\n",
       "    <tr>\n",
       "      <th>388</th>\n",
       "      <td>disk</td>\n",
       "      <td>1950s</td>\n",
       "    </tr>\n",
       "    <tr>\n",
       "      <th>389</th>\n",
       "      <td>disk</td>\n",
       "      <td>1950s</td>\n",
       "    </tr>\n",
       "    <tr>\n",
       "      <th>390</th>\n",
       "      <td>circle</td>\n",
       "      <td>1950s</td>\n",
       "    </tr>\n",
       "    <tr>\n",
       "      <th>391</th>\n",
       "      <td>rectangle</td>\n",
       "      <td>1950s</td>\n",
       "    </tr>\n",
       "    <tr>\n",
       "      <th>...</th>\n",
       "      <td>...</td>\n",
       "      <td>...</td>\n",
       "    </tr>\n",
       "    <tr>\n",
       "      <th>62696</th>\n",
       "      <td>disk</td>\n",
       "      <td>1950s</td>\n",
       "    </tr>\n",
       "    <tr>\n",
       "      <th>63027</th>\n",
       "      <td>other</td>\n",
       "      <td>1950s</td>\n",
       "    </tr>\n",
       "    <tr>\n",
       "      <th>63364</th>\n",
       "      <td>circle</td>\n",
       "      <td>1950s</td>\n",
       "    </tr>\n",
       "    <tr>\n",
       "      <th>63365</th>\n",
       "      <td>disk</td>\n",
       "      <td>1950s</td>\n",
       "    </tr>\n",
       "    <tr>\n",
       "      <th>63366</th>\n",
       "      <td>cigar</td>\n",
       "      <td>1950s</td>\n",
       "    </tr>\n",
       "  </tbody>\n",
       "</table>\n",
       "<p>336 rows × 2 columns</p>\n",
       "</div>"
      ],
      "text/plain": [
       "       UFO_shape Decades\n",
       "1         circle   1950s\n",
       "388         disk   1950s\n",
       "389         disk   1950s\n",
       "390       circle   1950s\n",
       "391    rectangle   1950s\n",
       "...          ...     ...\n",
       "62696       disk   1950s\n",
       "63027      other   1950s\n",
       "63364     circle   1950s\n",
       "63365       disk   1950s\n",
       "63366      cigar   1950s\n",
       "\n",
       "[336 rows x 2 columns]"
      ]
     },
     "execution_count": 295,
     "metadata": {},
     "output_type": "execute_result"
    }
   ],
   "source": [
    "df_1950s"
   ]
  },
  {
   "cell_type": "code",
   "execution_count": 296,
   "id": "74bd72a4",
   "metadata": {},
   "outputs": [
    {
     "data": {
      "text/plain": [
       "UFO_shape  Decades\n",
       "light      2010s      4842\n",
       "other      2010s      2753\n",
       "fireball   2010s      2703\n",
       "circle     2010s      2594\n",
       "triangle   2010s      1961\n",
       "sphere     2010s      1717\n",
       "oval       2010s       985\n",
       "disk       2010s       766\n",
       "formation  2010s       738\n",
       "changing   2010s       502\n",
       "flash      2010s       406\n",
       "cigar      2010s       366\n",
       "teardrop   2010s       335\n",
       "rectangle  2010s       330\n",
       "diamond    2010s       324\n",
       "cylinder   2010s       322\n",
       "chevron    2010s       211\n",
       "cone       2010s        81\n",
       "cross      2010s        78\n",
       "dtype: int64"
      ]
     },
     "execution_count": 296,
     "metadata": {},
     "output_type": "execute_result"
    }
   ],
   "source": [
    "# looking at most popular shapes in decades\n",
    "df_2010s.value_counts()\n",
    "# light, other, fireball, circle, triangle, sphere, oval, disk, formation, changing"
   ]
  },
  {
   "cell_type": "code",
   "execution_count": 297,
   "id": "99fea396",
   "metadata": {},
   "outputs": [
    {
     "data": {
      "text/plain": [
       "UFO_shape  Decades\n",
       "light      2000s      6844\n",
       "other      2000s      4621\n",
       "triangle   2000s      3254\n",
       "circle     2000s      2622\n",
       "sphere     2000s      1853\n",
       "disk       2000s      1791\n",
       "fireball   2000s      1758\n",
       "oval       2000s      1451\n",
       "formation  2000s       954\n",
       "changing   2000s       881\n",
       "cigar      2000s       826\n",
       "teardrop   2000s       644\n",
       "flash      2000s       536\n",
       "rectangle  2000s       524\n",
       "cylinder   2000s       507\n",
       "diamond    2000s       450\n",
       "chevron    2000s       426\n",
       "cone       2000s       129\n",
       "cross      2000s        87\n",
       "dtype: int64"
      ]
     },
     "execution_count": 297,
     "metadata": {},
     "output_type": "execute_result"
    }
   ],
   "source": [
    "# looking at most popular shapes in decades\n",
    "df_2000s.value_counts()\n",
    "# light, other, triangle, circle, sphere, disk, fireball, oval, formation, changing"
   ]
  },
  {
   "cell_type": "code",
   "execution_count": 298,
   "id": "d9cd79f5",
   "metadata": {},
   "outputs": [
    {
     "data": {
      "text/plain": [
       "UFO_shape  Decades\n",
       "light      1990s      1231\n",
       "other      1990s       958\n",
       "triangle   1990s       904\n",
       "fireball   1990s       553\n",
       "disk       1990s       484\n",
       "circle     1990s       465\n",
       "sphere     1990s       435\n",
       "oval       1990s       258\n",
       "formation  1990s       212\n",
       "cigar      1990s       179\n",
       "changing   1990s       138\n",
       "teardrop   1990s       130\n",
       "chevron    1990s       110\n",
       "rectangle  1990s       106\n",
       "cylinder   1990s       105\n",
       "flash      1990s        99\n",
       "diamond    1990s        93\n",
       "cone       1990s        25\n",
       "cross      1990s        15\n",
       "dtype: int64"
      ]
     },
     "execution_count": 298,
     "metadata": {},
     "output_type": "execute_result"
    }
   ],
   "source": [
    "# looking at most popular shapes in decades\n",
    "df_1990s.value_counts()\n",
    "# light, other, triangle, fireball, disk, circle, sphere, oval, formation, cigar"
   ]
  },
  {
   "cell_type": "code",
   "execution_count": 299,
   "id": "b7ebf4d3",
   "metadata": {},
   "outputs": [
    {
     "data": {
      "text/plain": [
       "UFO_shape  Decades\n",
       "other      1980s      289\n",
       "disk       1980s      233\n",
       "triangle   1980s      219\n",
       "light      1980s      169\n",
       "sphere     1980s      120\n",
       "circle     1980s      118\n",
       "oval       1980s       83\n",
       "cigar      1980s       63\n",
       "rectangle  1980s       54\n",
       "fireball   1980s       45\n",
       "formation  1980s       34\n",
       "chevron    1980s       32\n",
       "changing   1980s       32\n",
       "cylinder   1980s       31\n",
       "diamond    1980s       29\n",
       "teardrop   1980s       24\n",
       "flash      1980s        7\n",
       "cone       1980s        4\n",
       "cross      1980s        2\n",
       "dtype: int64"
      ]
     },
     "execution_count": 299,
     "metadata": {},
     "output_type": "execute_result"
    }
   ],
   "source": [
    "# looking at most popular shapes in decades\n",
    "df_1980s.value_counts()\n",
    "# other, disk, triangle, light, sphere, circle, oval, cigar, rectangle, fireball, formation"
   ]
  },
  {
   "cell_type": "code",
   "execution_count": 300,
   "id": "2063c486",
   "metadata": {},
   "outputs": [
    {
     "data": {
      "text/plain": [
       "UFO_shape  Decades\n",
       "disk       1970s      452\n",
       "light      1970s      228\n",
       "other      1970s      214\n",
       "circle     1970s      174\n",
       "triangle   1970s      164\n",
       "oval       1970s      139\n",
       "sphere     1970s      109\n",
       "cigar      1970s       97\n",
       "rectangle  1970s       44\n",
       "fireball   1970s       44\n",
       "cylinder   1970s       32\n",
       "formation  1970s       26\n",
       "chevron    1970s       25\n",
       "changing   1970s       22\n",
       "teardrop   1970s       19\n",
       "diamond    1970s       16\n",
       "flash      1970s        8\n",
       "cone       1970s        6\n",
       "cross      1970s        4\n",
       "dtype: int64"
      ]
     },
     "execution_count": 300,
     "metadata": {},
     "output_type": "execute_result"
    }
   ],
   "source": [
    "# looking at most popular shapes in decades\n",
    "df_1970s.value_counts()\n",
    "# disk, light, other, circle, triangle, oval, sphere, cigar, rectangle, fireball"
   ]
  },
  {
   "cell_type": "code",
   "execution_count": 301,
   "id": "66a47b7e",
   "metadata": {},
   "outputs": [
    {
     "data": {
      "text/plain": [
       "UFO_shape  Decades\n",
       "disk       1960s      268\n",
       "other      1960s      147\n",
       "light      1960s      115\n",
       "circle     1960s      104\n",
       "sphere     1960s       83\n",
       "oval       1960s       82\n",
       "cigar      1960s       78\n",
       "triangle   1960s       47\n",
       "fireball   1960s       29\n",
       "formation  1960s       17\n",
       "cylinder   1960s       17\n",
       "teardrop   1960s       16\n",
       "changing   1960s       10\n",
       "diamond    1960s        9\n",
       "chevron    1960s        8\n",
       "rectangle  1960s        8\n",
       "flash      1960s        4\n",
       "cross      1960s        2\n",
       "cone       1960s        1\n",
       "dtype: int64"
      ]
     },
     "execution_count": 301,
     "metadata": {},
     "output_type": "execute_result"
    }
   ],
   "source": [
    "df_1960s.value_counts()"
   ]
  },
  {
   "cell_type": "code",
   "execution_count": 302,
   "id": "3c56c789",
   "metadata": {},
   "outputs": [],
   "source": [
    "# df of the shape counts in each decade\n",
    "df_60s_counts = df_1960s[\"UFO_shape\"].value_counts()\n",
    "df_70s_counts = df_1970s[\"UFO_shape\"].value_counts()\n",
    "df_80s_counts = df_1980s[\"UFO_shape\"].value_counts()\n",
    "df_90s_counts = df_1990s[\"UFO_shape\"].value_counts()\n",
    "df_2000s_counts = df_2000s[\"UFO_shape\"].value_counts()\n",
    "df_2010s_counts = df_2010s[\"UFO_shape\"].value_counts()\n"
   ]
  },
  {
   "cell_type": "code",
   "execution_count": 303,
   "id": "1faa8161",
   "metadata": {},
   "outputs": [
    {
     "data": {
      "text/plain": [
       "light        1231\n",
       "other         958\n",
       "triangle      904\n",
       "fireball      553\n",
       "disk          484\n",
       "circle        465\n",
       "sphere        435\n",
       "oval          258\n",
       "formation     212\n",
       "cigar         179\n",
       "changing      138\n",
       "teardrop      130\n",
       "chevron       110\n",
       "rectangle     106\n",
       "cylinder      105\n",
       "flash          99\n",
       "diamond        93\n",
       "cone           25\n",
       "cross          15\n",
       "Name: UFO_shape, dtype: int64"
      ]
     },
     "execution_count": 303,
     "metadata": {},
     "output_type": "execute_result"
    }
   ],
   "source": [
    "df_90s_counts"
   ]
  },
  {
   "cell_type": "code",
   "execution_count": 304,
   "id": "820787b9",
   "metadata": {},
   "outputs": [],
   "source": [
    "# looking at most popular shapes in decades\n",
    "df_60s_counts = df_1960s[\"UFO_shape\"].value_counts()\n",
    "# disk, other, light, circle, sphere, oval, cigar, triangle, fireball, formation"
   ]
  },
  {
   "cell_type": "code",
   "execution_count": 305,
   "id": "18b0a682",
   "metadata": {},
   "outputs": [
    {
     "data": {
      "text/plain": [
       "light       4842\n",
       "other       2753\n",
       "fireball    2703\n",
       "circle      2594\n",
       "triangle    1961\n",
       "sphere      1717\n",
       "oval         985\n",
       "disk         766\n",
       "Name: UFO_shape, dtype: int64"
      ]
     },
     "execution_count": 305,
     "metadata": {},
     "output_type": "execute_result"
    }
   ],
   "source": [
    "# dataframes with number of sightings of top 8 shapes for each decades\n",
    "df_top_8_2010_counts = df_2010s_counts.iloc[:8]\n",
    "df_top_8_2000_counts = df_2000s_counts.iloc[:8]\n",
    "df_top_8_1990_counts = df_90s_counts.iloc[:8]\n",
    "df_top_8_1980_counts = df_80s_counts.iloc[:8]\n",
    "df_top_8_1970_counts = df_70s_counts.iloc[:8]\n",
    "df_top_8_1960_counts = df_60s_counts.iloc[:8]\n",
    "# look at output of one of the new df's\n",
    "df_top_8_2010_counts"
   ]
  },
  {
   "cell_type": "code",
   "execution_count": null,
   "id": "54165bf7",
   "metadata": {},
   "outputs": [],
   "source": []
  },
  {
   "cell_type": "code",
   "execution_count": 306,
   "id": "67096b93",
   "metadata": {},
   "outputs": [
    {
     "data": {
      "text/plain": [
       "disk         268\n",
       "other        147\n",
       "light        115\n",
       "circle       104\n",
       "sphere        83\n",
       "oval          82\n",
       "cigar         78\n",
       "triangle      47\n",
       "fireball      29\n",
       "cylinder      17\n",
       "formation     17\n",
       "teardrop      16\n",
       "changing      10\n",
       "diamond        9\n",
       "chevron        8\n",
       "rectangle      8\n",
       "flash          4\n",
       "cross          2\n",
       "cone           1\n",
       "Name: UFO_shape, dtype: int64"
      ]
     },
     "execution_count": 306,
     "metadata": {},
     "output_type": "execute_result"
    }
   ],
   "source": [
    "df_60s_counts"
   ]
  },
  {
   "cell_type": "code",
   "execution_count": 307,
   "id": "1ad29765",
   "metadata": {},
   "outputs": [
    {
     "data": {
      "text/plain": [
       "light       4842\n",
       "other       2753\n",
       "fireball    2703\n",
       "circle      2594\n",
       "triangle    1961\n",
       "sphere      1717\n",
       "oval         985\n",
       "disk         766\n",
       "Name: UFO_shape, dtype: int64"
      ]
     },
     "execution_count": 307,
     "metadata": {},
     "output_type": "execute_result"
    }
   ],
   "source": [
    "df_top_8_2010_counts"
   ]
  },
  {
   "cell_type": "code",
   "execution_count": 367,
   "id": "e16d6b3c",
   "metadata": {},
   "outputs": [
    {
     "data": {
      "image/png": "[encoded data removed]",
      "text/plain": [
       "<Figure size 1000x600 with 1 Axes>"
      ]
     },
     "metadata": {},
     "output_type": "display_data"
    }
   ],
   "source": [
    "# # Donut chart to look at top 8 shapes in 2010s\n",
    "\n",
    "# # configure the chart\n",
    "plt.figure(figsize=(10,6))\n",
    "plt.pie(df_top_8_2010_counts.values,\n",
    "        labels=df_top_8_2010_counts.index,\n",
    "        autopct=\"%1.f%%\",\n",
    "        colors=[\"YELLOW\",\"SLATEGREY\",\"RED\",\"SKYBLUE\",\"VIOLET\",\"DODGERBLUE\", \"CYAN\", \"LIME\"],\n",
    "        # LIST OF SHAPES\n",
    "        #colors=[\"LIGHT\",\"OTHER\",\"FIREBALL\",\"CIRCLE\",\"TRIANGLE\",\"SPHERE\", \"OVAL\", \"DISK\"],\n",
    "        pctdistance=0.80,\n",
    "        startangle=45)\n",
    "\n",
    "# draw the chart\n",
    "centre_circle = plt.Circle((0, 0), 0.6, fc='white')\n",
    "fig = plt.gcf()\n",
    "fig.gca().add_artist(centre_circle)\n",
    "plt.title(\"Top 8 shapes\\n in 2010's\", fontweight=\"bold\")\n",
    "#plt.axis(\"equal\")\n",
    "\n",
    "# order counts - makes png file\n",
    "plt.savefig(\"top_8_2010.png\")\n",
    "plt.show()"
   ]
  },
  {
   "cell_type": "code",
   "execution_count": 309,
   "id": "3aa0ad52",
   "metadata": {},
   "outputs": [
    {
     "data": {
      "text/plain": [
       "light       6844\n",
       "other       4621\n",
       "triangle    3254\n",
       "circle      2622\n",
       "sphere      1853\n",
       "disk        1791\n",
       "fireball    1758\n",
       "oval        1451\n",
       "Name: UFO_shape, dtype: int64"
      ]
     },
     "execution_count": 309,
     "metadata": {},
     "output_type": "execute_result"
    }
   ],
   "source": [
    "df_top_8_2000_counts"
   ]
  },
  {
   "cell_type": "code",
   "execution_count": 402,
   "id": "ec9851be",
   "metadata": {},
   "outputs": [
    {
     "data": {
      "image/png": "[encoded data removed]",
      "text/plain": [
       "<Figure size 1000x600 with 1 Axes>"
      ]
     },
     "metadata": {},
     "output_type": "display_data"
    }
   ],
   "source": [
    "# # Donut chart to look at top 8 shapes in 2000s\n",
    "\n",
    "# # configure the chart\n",
    "plt.figure(figsize=(10,6))\n",
    "plt.pie(df_top_8_2000_counts.values,\n",
    "        labels=df_top_8_2000_counts.index,\n",
    "        autopct=\"%1.f%%\",\n",
    "        colors=[\"YELLOW\",\"SLATEGREY\",\"VIOLET\",\"SKYBLUE\",\"DODGERBLUE\",\"LIME\", \"RED\", \"CYAN\"],\n",
    "        # LIST OF SHAPES\n",
    "        #colors=[\"LIGHT\",\"OTHER\",\"TRIANGLE\",\"CIRCLE\",\"SPHERE\", \"DISK\", \"FIREBALL\", \"OVAL\"],\n",
    "        pctdistance=0.80,\n",
    "        startangle=45)\n",
    "\n",
    "# # draw the chart\n",
    "centre_circle = plt.Circle((0, 0), 0.6, fc='white')\n",
    "fig = plt.gcf()\n",
    "fig.gca().add_artist(centre_circle)\n",
    "plt.title(\"Top 8 shapes\\n in 2000's\", fontweight=\"bold\")\n",
    "#plt.axis(\"equal\")\n",
    "\n",
    "# order counts - makes png file\n",
    "plt.savefig(\"top_8_2000.png\")\n",
    "plt.show()"
   ]
  },
  {
   "cell_type": "code",
   "execution_count": 311,
   "id": "b7e3da95",
   "metadata": {},
   "outputs": [
    {
     "data": {
      "text/plain": [
       "light       1231\n",
       "other        958\n",
       "triangle     904\n",
       "fireball     553\n",
       "disk         484\n",
       "circle       465\n",
       "sphere       435\n",
       "oval         258\n",
       "Name: UFO_shape, dtype: int64"
      ]
     },
     "execution_count": 311,
     "metadata": {},
     "output_type": "execute_result"
    }
   ],
   "source": [
    "df_top_8_1990_counts"
   ]
  },
  {
   "cell_type": "code",
   "execution_count": 403,
   "id": "2164f8c9",
   "metadata": {},
   "outputs": [
    {
     "data": {
      "image/png": "[encoded data removed]",
      "text/plain": [
       "<Figure size 1000x600 with 1 Axes>"
      ]
     },
     "metadata": {},
     "output_type": "display_data"
    }
   ],
   "source": [
    "# # Donut chart to look at top 8 shapes in 1990s\n",
    "\n",
    "# # configure the chart\n",
    "plt.figure(figsize=(10,6))\n",
    "plt.pie(df_top_8_1990_counts.values,\n",
    "        labels=df_top_8_1990_counts.index,\n",
    "        autopct=\"%1.f%%\",\n",
    "        colors=[\"YELLOW\",\"SLATEGREY\",\"VIOLET\",\"RED\",\"LIME\",\"SKYBLUE\", \"DODGERBLUE\", \"CYAN\"],\n",
    "        # LIST OF SHAPES\n",
    "        #colors=[\"LIGHT\",\"OTHER\",\"TRIANGLE\",\"FIREBALL\", \"DISK\", \"CIRCLE\", \"SPHERE\", \"OVAL\"],\n",
    "        pctdistance=0.80,\n",
    "        startangle=45)\n",
    "\n",
    "# # draw the chart\n",
    "centre_circle = plt.Circle((0, 0), 0.6, fc='white')\n",
    "fig = plt.gcf()\n",
    "fig.gca().add_artist(centre_circle)\n",
    "plt.title(\"Top 8 shapes\\n in 1990's\", fontweight=\"bold\")\n",
    "# order counts - makes png file\n",
    "plt.savefig(\"top_8_1990.png\")\n",
    "plt.show()"
   ]
  },
  {
   "cell_type": "code",
   "execution_count": 313,
   "id": "426af622",
   "metadata": {},
   "outputs": [
    {
     "data": {
      "text/plain": [
       "other       289\n",
       "disk        233\n",
       "triangle    219\n",
       "light       169\n",
       "sphere      120\n",
       "circle      118\n",
       "oval         83\n",
       "cigar        63\n",
       "Name: UFO_shape, dtype: int64"
      ]
     },
     "execution_count": 313,
     "metadata": {},
     "output_type": "execute_result"
    }
   ],
   "source": [
    "df_top_8_1980_counts"
   ]
  },
  {
   "cell_type": "code",
   "execution_count": 404,
   "id": "7f59bcf6",
   "metadata": {},
   "outputs": [
    {
     "data": {
      "image/png": "[encoded data removed]",
      "text/plain": [
       "<Figure size 1000x600 with 1 Axes>"
      ]
     },
     "metadata": {},
     "output_type": "display_data"
    }
   ],
   "source": [
    "# # Donut chart to look at top 8 shapes in 1980s\n",
    "\n",
    "# # configure the chart\n",
    "plt.figure(figsize=(10,6))\n",
    "plt.pie(df_top_8_1980_counts.values,\n",
    "        labels=df_top_8_1980_counts.index,\n",
    "        autopct=\"%1.f%%\",\n",
    "        colors=[\"SLATEGREY\", \"LIME\", \"VIOLET\", \"YELLOW\",\"DODGERBLUE\",\"SKYBLUE\", \"CYAN\", \"PERU\"],\n",
    "        # LIST OF SHAPES\n",
    "        #colors=[\"OTHER\", \"DISK\", \"TRIANGLE\", \"LIGHT\", \"SPHERE\", \"CIRCLE\", \"OVAL\", \"CIGAR\" ],\n",
    "        pctdistance=0.80,\n",
    "        startangle=45)\n",
    "\n",
    "# # draw the chart\n",
    "centre_circle = plt.Circle((0, 0), 0.6, fc='white')\n",
    "fig = plt.gcf()\n",
    "fig.gca().add_artist(centre_circle)\n",
    "plt.title(\"Top 8 shapes\\n in 1980's\", fontweight=\"bold\")\n",
    "\n",
    "# order counts - makes png file\n",
    "plt.savefig(\"top_8_1980.png\")\n",
    "plt.show()"
   ]
  },
  {
   "cell_type": "code",
   "execution_count": 315,
   "id": "844f482c",
   "metadata": {},
   "outputs": [
    {
     "data": {
      "text/plain": [
       "disk        452\n",
       "light       228\n",
       "other       214\n",
       "circle      174\n",
       "triangle    164\n",
       "oval        139\n",
       "sphere      109\n",
       "cigar        97\n",
       "Name: UFO_shape, dtype: int64"
      ]
     },
     "execution_count": 315,
     "metadata": {},
     "output_type": "execute_result"
    }
   ],
   "source": [
    "df_top_8_1970_counts"
   ]
  },
  {
   "cell_type": "code",
   "execution_count": 405,
   "id": "a7347fcd",
   "metadata": {},
   "outputs": [
    {
     "data": {
      "image/png": "[encoded data removed]",
      "text/plain": [
       "<Figure size 1000x600 with 1 Axes>"
      ]
     },
     "metadata": {},
     "output_type": "display_data"
    }
   ],
   "source": [
    "# # Donut chart to look at top 8 shapes in 1970s\n",
    "\n",
    "# # configure the chart\n",
    "plt.figure(figsize=(10,6))\n",
    "plt.pie(df_top_8_1970_counts.values,\n",
    "        labels=df_top_8_1970_counts.index,\n",
    "        autopct=\"%1.f%%\",\n",
    "        colors=[\"LIME\",\"YELLOW\",\"SLATEGREY\",\"SKYBLUE\",\"VIOLET\",\"CYAN\", \"DODGERBLUE\", \"PERU\"],\n",
    "        # LIST OF SHAPES\n",
    "        #colors=[\"DISK\", \"LIGHT\", \"OTHER\", \"CIRCLE\", \"TRIANGLE\", \"OVAL\", \"SPHERE\", \"CIGAR\" ],\n",
    "        pctdistance=0.80,\n",
    "        startangle=45)\n",
    "\n",
    "# # draw the chart\n",
    "centre_circle = plt.Circle((0, 0), 0.6, fc='white')\n",
    "fig = plt.gcf()\n",
    "fig.gca().add_artist(centre_circle)\n",
    "plt.title(\"Top 8 shapes\\n in 1970's\", fontweight=\"bold\")\n",
    "\n",
    "# order counts - makes png file\n",
    "plt.savefig(\"top_8_1970.png\")\n",
    "plt.show()"
   ]
  },
  {
   "cell_type": "code",
   "execution_count": 317,
   "id": "571ee2e5",
   "metadata": {},
   "outputs": [
    {
     "data": {
      "text/plain": [
       "disk        268\n",
       "other       147\n",
       "light       115\n",
       "circle      104\n",
       "sphere       83\n",
       "oval         82\n",
       "cigar        78\n",
       "triangle     47\n",
       "Name: UFO_shape, dtype: int64"
      ]
     },
     "execution_count": 317,
     "metadata": {},
     "output_type": "execute_result"
    }
   ],
   "source": [
    "df_top_8_1960_counts"
   ]
  },
  {
   "cell_type": "code",
   "execution_count": 406,
   "id": "2409369d",
   "metadata": {},
   "outputs": [
    {
     "data": {
      "image/png": "[encoded data removed]",
      "text/plain": [
       "<Figure size 1000x600 with 1 Axes>"
      ]
     },
     "metadata": {},
     "output_type": "display_data"
    }
   ],
   "source": [
    "# # Donut chart to look at top 8 shapes in 1960s\n",
    "\n",
    "# # configure the chart\n",
    "plt.figure(figsize=(10,6))\n",
    "plt.pie(df_top_8_1960_counts.values,\n",
    "        labels=df_top_8_1960_counts.index,\n",
    "        autopct=\"%1.f%%\",\n",
    "        colors=[\"LIME\",\"SLATEGREY\",\"YELLOW\",\"SKYBLUE\",\"DODGERBLUE\",\"CYAN\", \"PERU\", \"VIOLET\"],\n",
    "        # LIST OF SHAPES\n",
    "        #colors=[\"DISK\", \"OTHER\", \"LIGHT\", \"CIRCLE\", \"SPHERE\", \"OVAL\", \"CIGAR\", \"TRIANGLE\" ],\n",
    "        pctdistance=0.80,\n",
    "        startangle=45)\n",
    "\n",
    "# # draw the chart\n",
    "centre_circle = plt.Circle((0, 0), 0.6, fc='white')\n",
    "fig = plt.gcf()\n",
    "fig.gca().add_artist(centre_circle)\n",
    "plt.title(\"Top 8 shapes\\n in 1960's\", fontweight=\"bold\")\n",
    "\n",
    "# order counts - makes png file\n",
    "plt.savefig(\"top_8_1960.png\")\n",
    "plt.show()"
   ]
  },
  {
   "cell_type": "code",
   "execution_count": null,
   "id": "d83dd09f",
   "metadata": {},
   "outputs": [],
   "source": []
  },
  {
   "cell_type": "code",
   "execution_count": 319,
   "id": "d975b8a8",
   "metadata": {},
   "outputs": [],
   "source": [
    "# look at timeline (by decade) of number of sightings of each shape (x-axis: decades, y-axis: number of sightings)"
   ]
  },
  {
   "cell_type": "code",
   "execution_count": 391,
   "id": "b7efb5ab",
   "metadata": {},
   "outputs": [
    {
     "data": {
      "text/html": [
       "<div>\n",
       "<style scoped>\n",
       "    .dataframe tbody tr th:only-of-type {\n",
       "        vertical-align: middle;\n",
       "    }\n",
       "\n",
       "    .dataframe tbody tr th {\n",
       "        vertical-align: top;\n",
       "    }\n",
       "\n",
       "    .dataframe thead th {\n",
       "        text-align: right;\n",
       "    }\n",
       "</style>\n",
       "<table border=\"1\" class=\"dataframe\">\n",
       "  <thead>\n",
       "    <tr style=\"text-align: right;\">\n",
       "      <th></th>\n",
       "      <th>UFO_shape</th>\n",
       "      <th>Decades</th>\n",
       "    </tr>\n",
       "  </thead>\n",
       "  <tbody>\n",
       "    <tr>\n",
       "      <th>0</th>\n",
       "      <td>cylinder</td>\n",
       "      <td>1940s</td>\n",
       "    </tr>\n",
       "    <tr>\n",
       "      <th>1</th>\n",
       "      <td>circle</td>\n",
       "      <td>1950s</td>\n",
       "    </tr>\n",
       "    <tr>\n",
       "      <th>2</th>\n",
       "      <td>light</td>\n",
       "      <td>1960s</td>\n",
       "    </tr>\n",
       "    <tr>\n",
       "      <th>3</th>\n",
       "      <td>sphere</td>\n",
       "      <td>1960s</td>\n",
       "    </tr>\n",
       "    <tr>\n",
       "      <th>4</th>\n",
       "      <td>disk</td>\n",
       "      <td>1960s</td>\n",
       "    </tr>\n",
       "    <tr>\n",
       "      <th>...</th>\n",
       "      <td>...</td>\n",
       "      <td>...</td>\n",
       "    </tr>\n",
       "    <tr>\n",
       "      <th>63548</th>\n",
       "      <td>light</td>\n",
       "      <td>2010s</td>\n",
       "    </tr>\n",
       "    <tr>\n",
       "      <th>63549</th>\n",
       "      <td>circle</td>\n",
       "      <td>2010s</td>\n",
       "    </tr>\n",
       "    <tr>\n",
       "      <th>63550</th>\n",
       "      <td>other</td>\n",
       "      <td>2010s</td>\n",
       "    </tr>\n",
       "    <tr>\n",
       "      <th>63551</th>\n",
       "      <td>circle</td>\n",
       "      <td>2010s</td>\n",
       "    </tr>\n",
       "    <tr>\n",
       "      <th>63552</th>\n",
       "      <td>cigar</td>\n",
       "      <td>2010s</td>\n",
       "    </tr>\n",
       "  </tbody>\n",
       "</table>\n",
       "<p>63553 rows × 2 columns</p>\n",
       "</div>"
      ],
      "text/plain": [
       "      UFO_shape Decades\n",
       "0      cylinder   1940s\n",
       "1        circle   1950s\n",
       "2         light   1960s\n",
       "3        sphere   1960s\n",
       "4          disk   1960s\n",
       "...         ...     ...\n",
       "63548     light   2010s\n",
       "63549    circle   2010s\n",
       "63550     other   2010s\n",
       "63551    circle   2010s\n",
       "63552     cigar   2010s\n",
       "\n",
       "[63553 rows x 2 columns]"
      ]
     },
     "execution_count": 391,
     "metadata": {},
     "output_type": "execute_result"
    }
   ],
   "source": [
    "df_shape"
   ]
  },
  {
   "cell_type": "code",
   "execution_count": 417,
   "id": "97cbc783",
   "metadata": {},
   "outputs": [
    {
     "data": {
      "text/html": [
       "<div>\n",
       "<style scoped>\n",
       "    .dataframe tbody tr th:only-of-type {\n",
       "        vertical-align: middle;\n",
       "    }\n",
       "\n",
       "    .dataframe tbody tr th {\n",
       "        vertical-align: top;\n",
       "    }\n",
       "\n",
       "    .dataframe thead tr th {\n",
       "        text-align: left;\n",
       "    }\n",
       "\n",
       "    .dataframe thead tr:last-of-type th {\n",
       "        text-align: right;\n",
       "    }\n",
       "</style>\n",
       "<table border=\"1\" class=\"dataframe\">\n",
       "  <thead>\n",
       "    <tr>\n",
       "      <th></th>\n",
       "      <th>UFO_shape</th>\n",
       "    </tr>\n",
       "    <tr>\n",
       "      <th></th>\n",
       "      <th>count</th>\n",
       "    </tr>\n",
       "    <tr>\n",
       "      <th>Decades</th>\n",
       "      <th></th>\n",
       "    </tr>\n",
       "  </thead>\n",
       "  <tbody>\n",
       "    <tr>\n",
       "      <th>1910s</th>\n",
       "      <td>0.003147</td>\n",
       "    </tr>\n",
       "    <tr>\n",
       "      <th>1920s</th>\n",
       "      <td>0.004720</td>\n",
       "    </tr>\n",
       "    <tr>\n",
       "      <th>1930s</th>\n",
       "      <td>0.014161</td>\n",
       "    </tr>\n",
       "    <tr>\n",
       "      <th>1940s</th>\n",
       "      <td>0.118012</td>\n",
       "    </tr>\n",
       "    <tr>\n",
       "      <th>1950s</th>\n",
       "      <td>0.528693</td>\n",
       "    </tr>\n",
       "    <tr>\n",
       "      <th>1960s</th>\n",
       "      <td>1.644297</td>\n",
       "    </tr>\n",
       "    <tr>\n",
       "      <th>1970s</th>\n",
       "      <td>2.868472</td>\n",
       "    </tr>\n",
       "    <tr>\n",
       "      <th>1980s</th>\n",
       "      <td>2.498702</td>\n",
       "    </tr>\n",
       "    <tr>\n",
       "      <th>1990s</th>\n",
       "      <td>10.227684</td>\n",
       "    </tr>\n",
       "    <tr>\n",
       "      <th>2000s</th>\n",
       "      <td>47.453307</td>\n",
       "    </tr>\n",
       "    <tr>\n",
       "      <th>2010s</th>\n",
       "      <td>34.638805</td>\n",
       "    </tr>\n",
       "  </tbody>\n",
       "</table>\n",
       "</div>"
      ],
      "text/plain": [
       "         UFO_shape\n",
       "             count\n",
       "Decades           \n",
       "1910s     0.003147\n",
       "1920s     0.004720\n",
       "1930s     0.014161\n",
       "1940s     0.118012\n",
       "1950s     0.528693\n",
       "1960s     1.644297\n",
       "1970s     2.868472\n",
       "1980s     2.498702\n",
       "1990s    10.227684\n",
       "2000s    47.453307\n",
       "2010s    34.638805"
      ]
     },
     "execution_count": 417,
     "metadata": {},
     "output_type": "execute_result"
    }
   ],
   "source": [
    "df_shape.groupby(\"Decades\").agg({\"UFO_shape\": [\"count\"]}) * 100 / df_shape.shape[0]"
   ]
  },
  {
   "cell_type": "code",
   "execution_count": 415,
   "id": "4600ebe8",
   "metadata": {},
   "outputs": [
    {
     "data": {
      "text/plain": [
       "127106"
      ]
     },
     "execution_count": 415,
     "metadata": {},
     "output_type": "execute_result"
    }
   ],
   "source": [
    "df_shape.size"
   ]
  },
  {
   "cell_type": "code",
   "execution_count": 413,
   "id": "f0f89652",
   "metadata": {},
   "outputs": [
    {
     "data": {
      "image/png": "[encoded data removed]",
      "text/plain": [
       "<Figure size 640x480 with 1 Axes>"
      ]
     },
     "metadata": {},
     "output_type": "display_data"
    }
   ],
   "source": [
    "df_shape.pivot_table(index=['Decades'],columns='UFO_shape',aggfunc='size').plot(kind='line')\n",
    "plt.legend(loc=\"upper right\", bbox_to_anchor=(1.3,1))\n",
    "plt.xlabel(\"Decades\")\n",
    "plt.ylabel(\"Number of Sightings\")\n",
    "plt.show()"
   ]
  },
  {
   "cell_type": "code",
   "execution_count": null,
   "id": "f4e8ec3f",
   "metadata": {},
   "outputs": [],
   "source": []
  },
  {
   "cell_type": "code",
   "execution_count": null,
   "id": "b4467ea3",
   "metadata": {},
   "outputs": [],
   "source": []
  }
 ],
 "metadata": {
  "kernelspec": {
   "display_name": "Python 3 (ipykernel)",
   "language": "python",
   "name": "python3"
  },
  "language_info": {
   "codemirror_mode": {
    "name": "ipython",
    "version": 3
   },
   "file_extension": ".py",
   "mimetype": "text/x-python",
   "name": "python",
   "nbconvert_exporter": "python",
   "pygments_lexer": "ipython3",
   "version": "3.9.13"
  }
 },
 "nbformat": 4,
 "nbformat_minor": 5
}
